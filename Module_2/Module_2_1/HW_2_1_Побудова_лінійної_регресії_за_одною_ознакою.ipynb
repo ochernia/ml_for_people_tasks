{
 "cells": [
  {
   "cell_type": "markdown",
   "metadata": {
    "id": "EWomc9mXPTqZ"
   },
   "source": [
    "В цьому домашньому завданні кожне завдання оцінюється по 10 балів."
   ]
  },
  {
   "cell_type": "markdown",
   "metadata": {
    "id": "6c79c881"
   },
   "source": [
    " **Завдання 1.** Після перегляду лекцій про поняття функії, вступ до лінійної алгебри і мат. формулювання лін. регресії знайдіть найкращу лінію для прогнозу `charges` за `age` **для некурців** (датафрейм `non_smoker_df`) з допомогою\n",
    "\n",
    "1. Методу МНК (з використанням тільки `numpy`, без `scikit learn`)\n",
    "\n",
    "2. Full-Batch градієнтного спуску з `numpy` . Протестуйте 3 різних learning rate і зробіть висновок, який є найкращим виходячи з практик для цього, наведених в лекції. Зверніть увагу, що на вхід треба набір даних дворозміний, для цього можливо треба буде трансформувати Ваші дані X в формат, як був в лекції \"Математичне формулювання лінійної регресії\". Також, градієнтний спуск в нашому випадку може розходитись з навчальним рейтом 0.1, бо цей рейт в цій задачі завеликий. Спробуйте нижчі рейти.\n",
    "3. З `scikit-learn.LinearRegression`. Тут зверніть увагу, що вхід `X` має бути двовимірним масивом, тому нам потрібно передати dataframe, а не окрему колонку. Якщо у Вас X - колонка (а у Вас так мало б бути), то можна скористатись `X.to_frame()` щоб конвертувати колонку в датафрейм.\n",
    "\n",
    "Для кожного методу\n",
    "- знайдіть і виведіть коефіцієнти моделі\n",
    "- обчисліть прогнози моделі і збережіть в окрему змінну\n",
    "- порахуйте точність прогнозу RMSE  \n",
    "\n",
    "Для градієнтного спуску виведіть графік помилки в залежності від ітерації.\n",
    "\n",
    "А також побудуйте на одному графіку дані `age` проти `charges` в вигляді діаграми розсіювання і всі три лінії регресії, знайдені кожним з методів (для град. спуску оберіть варіант з тим learning rate, який виявився найкращим).\n",
    "\n",
    "Зробіть висновки, чи відрізняються результати моделей?\n",
    "Чи є знайдены параметри моделы близькими до ваших найкращих припущень?"
   ]
  },
  {
   "cell_type": "code",
   "execution_count": 1,
   "metadata": {
    "id": "FQoRJkFUX6ln"
   },
   "outputs": [],
   "source": [
    "import pandas as pd\n",
    "medical_df = pd.read_csv('medical-charges.csv')\n",
    "non_smoker_df = medical_df[medical_df.smoker == 'no']"
   ]
  },
  {
   "cell_type": "code",
   "execution_count": 2,
   "metadata": {
    "id": "DTkYxGddX-5r"
   },
   "outputs": [
    {
     "name": "stdout",
     "output_type": "stream",
     "text": [
      "<class 'pandas.core.frame.DataFrame'>\n",
      "Index: 1064 entries, 1 to 1336\n",
      "Data columns (total 7 columns):\n",
      " #   Column    Non-Null Count  Dtype  \n",
      "---  ------    --------------  -----  \n",
      " 0   age       1064 non-null   int64  \n",
      " 1   sex       1064 non-null   object \n",
      " 2   bmi       1064 non-null   float64\n",
      " 3   children  1064 non-null   int64  \n",
      " 4   smoker    1064 non-null   object \n",
      " 5   region    1064 non-null   object \n",
      " 6   charges   1064 non-null   float64\n",
      "dtypes: float64(2), int64(2), object(3)\n",
      "memory usage: 66.5+ KB\n"
     ]
    }
   ],
   "source": [
    "non_smoker_df.info()"
   ]
  },
  {
   "cell_type": "code",
   "execution_count": 3,
   "metadata": {},
   "outputs": [],
   "source": [
    "import numpy as np\n",
    "import matplotlib.pyplot as plt\n",
    "from sklearn.metrics import mean_squared_error\n",
    "from math import sqrt"
   ]
  },
  {
   "cell_type": "code",
   "execution_count": 10,
   "metadata": {},
   "outputs": [],
   "source": [
    "X = non_smoker_df['age']\n",
    "y = non_smoker_df['charges']"
   ]
  },
  {
   "cell_type": "code",
   "execution_count": 13,
   "metadata": {},
   "outputs": [],
   "source": [
    "def normal_equation(X, y):\n",
    "    theta = np.linalg.inv(X.T.dot(X)).dot(X.T).dot(y)\n",
    "    return theta\n",
    "    "
   ]
  },
  {
   "cell_type": "code",
   "execution_count": 14,
   "metadata": {},
   "outputs": [
    {
     "name": "stdout",
     "output_type": "stream",
     "text": [
      "MNK Method:\n",
      "Slope: 267.25\n",
      "Intercept: -2091.42\n",
      "RMSE: 4662.51\n"
     ]
    }
   ],
   "source": [
    "X_with_intercept = np.c_[np.ones((X.shape[0], 1)), X]\n",
    "\n",
    "least_squares_coefs = normal_equations(X_with_intercept, y)\n",
    "intercept, slope = least_squares_coefs\n",
    "\n",
    "y_pred_ls = np.dot(X_with_intercept, least_squares_coefs)\n",
    "\n",
    "rmse = sqrt(mean_squared_error(y, y_pred_ls))\n",
    "\n",
    "MNK_coefs = normal_equation(X_with_intercept, y)\n",
    "\n",
    "print(f'MNK Method:')\n",
    "print(f'Slope: {slope:.2f}')\n",
    "print(f'Intercept: {intercept:.2f}')\n",
    "print(f'RMSE: {rmse:.2f}')"
   ]
  },
  {
   "cell_type": "markdown",
   "metadata": {
    "id": "eaf4b75b"
   },
   "source": [
    " **Завдання 2.** Навчіть модель лінійної регресії з допомогою sklearn оцінювати розмір медичних збори для **курців** за їх віком.\n",
    "Виведіть\n",
    "- точність моделі\n",
    "-  коефіцієнти\n",
    "-  візуалізуйте модель у вигляді лінії на графіку розсіювання `age` проти `charges`\n",
    "\n",
    "і зробіть висновки, чи це хороша модель, чи ви б її використовували в компанії?"
   ]
  },
  {
   "cell_type": "code",
   "execution_count": 4,
   "metadata": {
    "id": "56e996b8"
   },
   "outputs": [],
   "source": []
  },
  {
   "cell_type": "code",
   "execution_count": null,
   "metadata": {},
   "outputs": [],
   "source": []
  }
 ],
 "metadata": {
  "colab": {
   "provenance": []
  },
  "kernelspec": {
   "display_name": "Python 3 (ipykernel)",
   "language": "python",
   "name": "python3"
  },
  "language_info": {
   "codemirror_mode": {
    "name": "ipython",
    "version": 3
   },
   "file_extension": ".py",
   "mimetype": "text/x-python",
   "name": "python",
   "nbconvert_exporter": "python",
   "pygments_lexer": "ipython3",
   "version": "3.12.7"
  }
 },
 "nbformat": 4,
 "nbformat_minor": 4
}
