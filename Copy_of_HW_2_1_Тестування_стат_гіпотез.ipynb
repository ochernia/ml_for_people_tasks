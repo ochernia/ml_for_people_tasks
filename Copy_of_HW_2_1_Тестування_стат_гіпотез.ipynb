{
 "cells": [
  {
   "cell_type": "markdown",
   "metadata": {
    "id": "ID3uSQHkQJ2J"
   },
   "source": [
    "В цьому ДЗ потренуємось виконувати Z-тести для тестування гіпотез в різних задачах. Для коректної імплементації та інтерпретації тестів рекоемндую переглянути спершу документацію:\n",
    "\n",
    "https://www.statsmodels.org/dev/generated/statsmodels.stats.weightstats.ztest.html\n",
    "\n",
    "### Завдання 1: Z-тест для однієї вибірки\n",
    "\n",
    "**Мета**: Перевірити, чи середнє значення вибірки відрізняється від гіпотетичного середнього.\n",
    "\n",
    "**Припущення**: Середній ріст студентів університету вважається 170 см. Ми хочемо перевірити, чи середній ріст випадкової вибірки студентів істотно більший. Вибірка задана в змінній `heights`.\n",
    "\n",
    "Для виконання завдання імпортуйте метод для проведення `ztest`, виконайте Z-тест з Python, виведіть p-value і зробіть заключення, чи справдилось припущення про середній зріст студентів на рівні значущості 0.05?\n",
    "\n",
    "Використовуємо тут Z-тест, оскільки вибірка достатньо велика (більше 30 екземплярів) і можемо вважати, що її стандартне відхилення близьке до ст. відхилення генеральної сукупності, а значить - відоме."
   ]
  },
  {
   "cell_type": "code",
   "execution_count": 1,
   "metadata": {
    "id": "TUYNSCDzRE7N"
   },
   "outputs": [],
   "source": [
    "heights = [174, 171, 175, 179, 170, 170, 179, 175, 169, 174, 169, 169, 173, 162, 163, 169, 166,\n",
    "           173, 167, 164, 179, 170, 172, 164, 169, 175, 169, 174, 169, 169, 173, 162, 177]"
   ]
  },
  {
   "cell_type": "code",
   "execution_count": 2,
   "metadata": {
    "id": "uTJEZPARYMd4"
   },
   "outputs": [],
   "source": [
    "import numpy as np\n",
    "from statsmodels.stats.weightstats import ztest"
   ]
  },
  {
   "cell_type": "code",
   "execution_count": 3,
   "metadata": {},
   "outputs": [],
   "source": [
    "null_mean = 170\n",
    "alpha = 0.05"
   ]
  },
  {
   "cell_type": "code",
   "execution_count": 4,
   "metadata": {},
   "outputs": [
    {
     "name": "stdout",
     "output_type": "stream",
     "text": [
      "Середнє вибірки: 170.70\n",
      "Стандартне відхилення вибірки: 4.65\n"
     ]
    }
   ],
   "source": [
    "print(f'Середнє вибірки: {np.mean(heights):.2f}')\n",
    "print(f'Стандартне відхилення вибірки: {np.std(heights):.2f}')"
   ]
  },
  {
   "cell_type": "code",
   "execution_count": 7,
   "metadata": {},
   "outputs": [],
   "source": [
    "ztest_Score, p_value = ztest(heights, value = null_mean, alternative='larger')"
   ]
  },
  {
   "cell_type": "code",
   "execution_count": 8,
   "metadata": {},
   "outputs": [
    {
     "data": {
      "text/plain": [
       "(0.8482235371587619, 0.19815674571091746)"
      ]
     },
     "execution_count": 8,
     "metadata": {},
     "output_type": "execute_result"
    }
   ],
   "source": [
    "ztest_Score, p_value"
   ]
  },
  {
   "cell_type": "code",
   "execution_count": 9,
   "metadata": {},
   "outputs": [
    {
     "name": "stdout",
     "output_type": "stream",
     "text": [
      "Н0 не може бути відхилена.\n"
     ]
    }
   ],
   "source": [
    "if(p_value <  alpha):\n",
    "    print('Відхилити Н0.')\n",
    "else:\n",
    "    print('Н0 не може бути відхилена.')"
   ]
  },
  {
   "cell_type": "markdown",
   "metadata": {},
   "source": [
    "Висновок:\n",
    "Оскільки p-value > 0.05, у нас немає достатньо доказів, щоб відкинути нульову гіпотезу.\n",
    "Середній зріст студентів не значно відрізняється від 170 см."
   ]
  },
  {
   "cell_type": "markdown",
   "metadata": {
    "id": "ga4iKM9kQa9Q"
   },
   "source": [
    "### Завдання 2: Z-тест для двох незалежних вибірок\n",
    "\n",
    "**Завдання 2.1.**\n",
    "\n",
    "**Мета**: Перевірити, чи існує статистична різниця між середніми оцінками двох груп студентів.\n",
    "\n",
    "**Припущення**: Група A отримала новий навчальний курс, а група B продовжувала зі стандартним курсом. Ми перевіряємо, чи є новий курс ефективнішим.\n",
    "\n",
    "Виконайте Z-тест з Python, виведіть p-value і зробіть заключення, чи справдилось припущення щодо студентів на рівні значущості 0.05?"
   ]
  },
  {
   "cell_type": "code",
   "execution_count": 10,
   "metadata": {
    "id": "SngJjNBJTgBp"
   },
   "outputs": [],
   "source": [
    "group_a_scores = [78.55, 72.25, 79.88, 75.  , 76.54, 74.99, 87.26, 77.93, 72.71,\n",
    "       82.11, 71.9 , 79.04, 68.2 , 71.36, 78.98, 81.69, 78.86, 77.42,\n",
    "       76.49, 70.61, 74.4 , 75.7 , 83.29, 79.72, 69.18, 79.62, 76.07,\n",
    "       74.62, 81.06, 83.15, 82.66, 73.8 , 76.45, 79.66, 82.88, 75.6 ,\n",
    "       77.07, 72.47, 72.02, 82.06]\n",
    "\n",
    "group_b_scores = [81.78, 74.64, 80.02, 76.81, 71.77, 76.81, 82.69, 74.82, 82.82,\n",
    "       61.9 , 79.11, 75.44, 73.5 , 75.46, 65.06, 73.9 , 76.79, 82.39,\n",
    "       72.41, 70.96, 72.49, 79.58, 76.64, 72.35, 77.57, 75.49, 79.84,\n",
    "       71.49, 73.36, 73.04, 67.68, 76.48, 76.31, 75.03, 73.83, 67.92,\n",
    "       72.9 , 73.29, 70.99, 74.19]"
   ]
  },
  {
   "cell_type": "code",
   "execution_count": 12,
   "metadata": {
    "id": "CvftCAEHYPKL"
   },
   "outputs": [
    {
     "name": "stdout",
     "output_type": "stream",
     "text": [
      "Середнє вибірки групи A: 77.08\n",
      "Стандартне відхилення вибірки групи A: 4.37\n",
      "Середнє групи вибірки B: 74.74\n",
      "Стандартне відхилення вибірки групи B: 4.52\n"
     ]
    }
   ],
   "source": [
    "print(f'Середнє вибірки групи A: {np.mean(group_a_scores):.2f}')\n",
    "print(f'Стандартне відхилення вибірки групи A: {np.std(group_a_scores, ddof=1):.2f}')\n",
    "print(f'Середнє групи вибірки B: {np.mean(group_b_scores):.2f}')\n",
    "print(f'Стандартне відхилення вибірки групи B: {np.std(group_b_scores, ddof=1):.2f}')"
   ]
  },
  {
   "cell_type": "code",
   "execution_count": 13,
   "metadata": {},
   "outputs": [
    {
     "data": {
      "text/plain": [
       "(2.357354864751502, 0.009202824276264005)"
      ]
     },
     "execution_count": 13,
     "metadata": {},
     "output_type": "execute_result"
    }
   ],
   "source": [
    "z_stat_groups, p_value_groups = ztest(group_a_scores, group_b_scores, alternative='larger')\n",
    "\n",
    "z_stat_groups, p_value_groups"
   ]
  },
  {
   "cell_type": "code",
   "execution_count": 14,
   "metadata": {},
   "outputs": [
    {
     "name": "stdout",
     "output_type": "stream",
     "text": [
      "Відхилити Н0.\n"
     ]
    }
   ],
   "source": [
    "alpha = 0.05\n",
    "\n",
    "if(p_value_groups <  alpha):\n",
    "    print('Відхилити Н0.')\n",
    "else:\n",
    "    print('Н0 не може бути відхилена.')"
   ]
  },
  {
   "cell_type": "markdown",
   "metadata": {},
   "source": [
    "Висновок:\n",
    "Оскільки p-value < 0.05, у нас є достатньо доказів, щоб відкинути нульову гіпотезу.\n",
    "Іншими словами, новий курс групи A є ефективнішим за стандартний курс групи B."
   ]
  },
  {
   "cell_type": "markdown",
   "metadata": {
    "id": "zOxz2tU0VpJM"
   },
   "source": [
    "**Завдання 2.2.**\n",
    "\n",
    "\n",
    "**Мета**: Побачити, як впливає розмір вибірок на результат тесту.\n",
    "\n",
    "**Завдання**: Уявіть, що з групи А ми маємо тільки перші 5 записів, а з групи В - усі. Таке могло статись, якщо ми вже маємо результати тестів учнів за попередньою програмою, а тести за новою програмою здали наразі лише 5 учнів і ми вирішили не чекати довше.\n",
    "Виберіть перші 5 записів для групи А і проведіть t-test (для цього використовуємо наступний [метод](https://docs.scipy.org/doc/scipy/reference/generated/scipy.stats.ttest_ind.html)). Виведіть значення p-value. Зробіть висновок, який результат ви бачите щодо стат. значущості на рівні 0.05 для цього експерименту?\n",
    "\n",
    "Тут проводимо t-test оскільки одна з вибірок - дуже мала."
   ]
  },
  {
   "cell_type": "markdown",
   "metadata": {
    "id": "3TcRHLLz0SLw"
   },
   "source": [
    "\n",
    "### Завдання 3\\*: Z-тест для двох **пов'язаних** вибірок\n",
    "\n",
    "**Мета**: Перевірити, чи вплинув тренінг на продуктивність працівників, коли всі справробітники проходили тренінг.\n",
    "\n",
    "**Припущення**: Наші працівники проходять однаковий тренінг, і ми хочемо з'ясувати, чи покращилися їхні показники після тренінгу на рівні значущості 0.05. Виконайте Z-тест з Python, виведіть p-value і зробіть заключення, чи поліпшились показники працівників на рівні значущості 0.05?\n",
    "\n",
    "Зверніть увагу, ці вибірки повʼязані між собою, значить не буде коректно виконати z-test між ними, натомість, ми можемо порівняти, чи різниця в результатах (продуктивності співробітників) є стат значущою."
   ]
  },
  {
   "cell_type": "code",
   "execution_count": 16,
   "metadata": {
    "id": "uxrjagJFW1GC"
   },
   "outputs": [],
   "source": [
    "before_training = [57.82, 37.63, 36.8 , 55.22, 52.97, 52.5 , 53.46, 43.2 , 52.32,\n",
    "       52.93, 42.86, 68.66, 54.74, 38.09, 56.57, 40.25, 57.87, 61.59,\n",
    "       41.79, 59.63, 54.13, 58.22, 68.97, 47.55, 42.46, 41.1 , 41.84,\n",
    "       49.23, 53.41, 52.77]\n",
    "\n",
    "after_training = [62.47, 40.66, 42.7 , 57.69, 61.41, 56.76, 54.75, 44.06, 56.29,\n",
    "       55.48, 47.28, 72.6 , 57.59, 39.39, 56.54, 42.36, 62.58, 65.01,\n",
    "       42.3 , 62.98, 57.9 , 59.45, 72.28, 50.66, 43.18, 44.82, 45.96,\n",
    "       54.4 , 58.52, 53.01]"
   ]
  },
  {
   "cell_type": "code",
   "execution_count": 17,
   "metadata": {
    "id": "NwCsN91OYSpN"
   },
   "outputs": [],
   "source": [
    "difference = np.array(after_training) - np.array(before_training)"
   ]
  },
  {
   "cell_type": "code",
   "execution_count": 19,
   "metadata": {},
   "outputs": [
    {
     "name": "stdout",
     "output_type": "stream",
     "text": [
      "Середнє вибірки: 3.15\n",
      "Стандартне відхилення вибірки: 1.86\n"
     ]
    }
   ],
   "source": [
    "print(f'Середнє вибірки: {np.mean(difference):.2f}')\n",
    "print(f'Стандартне відхилення вибірки: {np.std(difference):.2f}')"
   ]
  },
  {
   "cell_type": "code",
   "execution_count": 20,
   "metadata": {},
   "outputs": [
    {
     "data": {
      "text/plain": [
       "(9.13890009623916, 3.1545359919175505e-20)"
      ]
     },
     "execution_count": 20,
     "metadata": {},
     "output_type": "execute_result"
    }
   ],
   "source": [
    "z_stat, p_value = ztest(difference, value=0, alternative='larger')\n",
    "\n",
    "z_stat, p_value"
   ]
  },
  {
   "cell_type": "code",
   "execution_count": 21,
   "metadata": {},
   "outputs": [
    {
     "name": "stdout",
     "output_type": "stream",
     "text": [
      "Відхилити Н0.\n"
     ]
    }
   ],
   "source": [
    "alpha = 0.05\n",
    "\n",
    "if(p_value <  alpha):\n",
    "    print('Відхилити Н0.')\n",
    "else:\n",
    "    print('Н0 не може бути відхилена.')"
   ]
  },
  {
   "cell_type": "markdown",
   "metadata": {},
   "source": [
    "Висновок:\n",
    "Оскільки p-value > 0.05, у нас немає достатньо доказів, щоб відкинути нульову гіпотезу."
   ]
  }
 ],
 "metadata": {
  "colab": {
   "provenance": []
  },
  "kernelspec": {
   "display_name": "Python 3 (ipykernel)",
   "language": "python",
   "name": "python3"
  },
  "language_info": {
   "codemirror_mode": {
    "name": "ipython",
    "version": 3
   },
   "file_extension": ".py",
   "mimetype": "text/x-python",
   "name": "python",
   "nbconvert_exporter": "python",
   "pygments_lexer": "ipython3",
   "version": "3.12.7"
  }
 },
 "nbformat": 4,
 "nbformat_minor": 4
}
